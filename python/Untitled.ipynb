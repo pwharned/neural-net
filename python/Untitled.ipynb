{
 "cells": [
  {
   "cell_type": "code",
   "execution_count": 1,
   "id": "c8bb7027-e60f-4671-9751-996d37057f6a",
   "metadata": {},
   "outputs": [
    {
     "name": "stdout",
     "output_type": "stream",
     "text": [
      "Gradient: [1.  1.5 3.  6.  8. ]\n"
     ]
    }
   ],
   "source": [
    "import numpy as np\n",
    "\n",
    "# Create a one-dimensional array (you can replace this with your own function)\n",
    "one_dim = np.array([1, 2, 4, 8, 16], dtype=float)\n",
    "\n",
    "# Calculate the gradient\n",
    "gradient = np.gradient(one_dim)\n",
    "\n",
    "print(\"Gradient:\", gradient)\n"
   ]
  },
  {
   "cell_type": "code",
   "execution_count": 125,
   "id": "a2692250-5066-40c7-9b47-530f9b644e98",
   "metadata": {},
   "outputs": [
    {
     "name": "stdout",
     "output_type": "stream",
     "text": [
      "[[0.5        1.         1.5       ]\n",
      " [1.33333333 1.66666667 2.        ]]\n"
     ]
    }
   ],
   "source": [
    "import numpy as np\n",
    "matrix = np.array([[1, 2, 3], [4, 5, 6]])\n",
    "vector = np.array([[2, 3]])\n",
    "result = matrix / vector.T\n",
    "print(result)"
   ]
  },
  {
   "cell_type": "code",
   "execution_count": 121,
   "id": "51c65c1a-2e2f-44e0-9b48-4a5a69407ab9",
   "metadata": {},
   "outputs": [
    {
     "data": {
      "text/plain": [
       "(2, 3)"
      ]
     },
     "execution_count": 121,
     "metadata": {},
     "output_type": "execute_result"
    }
   ],
   "source": [
    "matrix.shape"
   ]
  },
  {
   "cell_type": "code",
   "execution_count": 2,
   "id": "d10113a1-aed8-4c29-b983-215b36cce0a2",
   "metadata": {},
   "outputs": [],
   "source": [
    "import numpy as np\n",
    "import pandas as pd"
   ]
  },
  {
   "cell_type": "code",
   "execution_count": 3,
   "id": "c466b772-1470-41de-9ef0-8ce11d61e0b8",
   "metadata": {},
   "outputs": [
    {
     "ename": "NameError",
     "evalue": "name 'init_params' is not defined",
     "output_type": "error",
     "traceback": [
      "\u001b[0;31m---------------------------------------------------------------------------\u001b[0m",
      "\u001b[0;31mNameError\u001b[0m                                 Traceback (most recent call last)",
      "Cell \u001b[0;32mIn[3], line 1\u001b[0m\n\u001b[0;32m----> 1\u001b[0m W1, b1, W2, b2 \u001b[38;5;241m=\u001b[39m \u001b[43minit_params\u001b[49m(\u001b[38;5;241m10\u001b[39m,\u001b[38;5;241m784\u001b[39m, \u001b[38;5;241m10\u001b[39m)\n",
      "\u001b[0;31mNameError\u001b[0m: name 'init_params' is not defined"
     ]
    }
   ],
   "source": [
    "W1, b1, W2, b2 = init_params(10,784, 10)\n"
   ]
  },
  {
   "cell_type": "code",
   "execution_count": 15,
   "id": "ffd15f87-d3f8-4e69-952c-3f5905b57a3e",
   "metadata": {},
   "outputs": [],
   "source": [
    "W1, b1, W2, b2 = init_params(10,784, 10)\n"
   ]
  },
  {
   "cell_type": "code",
   "execution_count": 17,
   "id": "1dafd3d8-3086-4332-8010-bd229c386f5a",
   "metadata": {},
   "outputs": [
    {
     "data": {
      "text/plain": [
       "(10, 784)"
      ]
     },
     "execution_count": 17,
     "metadata": {},
     "output_type": "execute_result"
    }
   ],
   "source": [
    "W1.shape"
   ]
  },
  {
   "cell_type": "code",
   "execution_count": 75,
   "id": "e1694a63-4e58-4c05-993d-1483a6b18cf7",
   "metadata": {},
   "outputs": [],
   "source": [
    "data = pd.read_csv('mnist_train.csv')\n",
    "data = np.array(data)\n",
    "m, n = data.shape\n",
    "#np.random.shuffle(data) # shuffle before splitting into dev and training sets\n",
    "\n",
    "#data_dev = data[0:1000].T\n",
    "#Y_dev = data_dev[0]\n",
    "#X_dev = data_dev[1:n]\n",
    "#X_dev = X_dev / 255.\n",
    "\n",
    "data_train = data.T\n",
    "Y_train = data_train[0]\n",
    "X_train = data_train[1:n]\n",
    "X_train = X_train / 255.\n",
    "_,m_train = X_train.shape\n",
    "\n",
    "def get_predictions(A2):\n",
    "    return np.argmax(A2, 0)\n",
    "\n",
    "def get_accuracy(predictions, Y):\n",
    "    return np.sum(predictions == Y) / Y.size\n",
    "def one_hot(Y):\n",
    "    one_hot_Y = np.zeros((Y.size, Y.max() + 1))\n",
    "    one_hot_Y[np.arange(Y.size), Y] = 1\n",
    "    one_hot_Y = one_hot_Y.T\n",
    "    return one_hot_Y\n",
    "def init_params(n_classes, n_features, n_hidden):\n",
    "    W1 = np.random.rand(n_hidden, n_features) - 0.5\n",
    "    b1 = np.random.rand(n_hidden, 1) - 0.5\n",
    "    W2 = np.random.rand(n_classes, n_hidden) - 0.5\n",
    "    b2 = np.random.rand(n_classes, 1) - 0.5\n",
    "    return W1, b1, W2, b2\n",
    "\n",
    "def init_params(n_classes, n_features, n_hidden):\n",
    "    W1 = np.zeros( (n_hidden, n_features)) + 0.05\n",
    "    b1 = np.zeros( (n_hidden, 1) ) + 0.05\n",
    "    W2 = np.zeros( (n_classes, n_hidden) ) + 0.05\n",
    "    b2 = np.zeros( (n_classes, 1)) + 0.05\n",
    "    return W1, b1, W2, b2\n",
    "    \n",
    "def ReLU(Z):\n",
    "    return np.maximum(Z, 0)\n",
    "\n",
    "def softmax(Z):\n",
    "    A = np.exp(Z) / sum(np.exp(Z))\n",
    "    return A\n",
    "    \n",
    "def ReLU_deriv(Z):\n",
    "    return Z > 0\n",
    "    \n",
    "W1, b1, W2, b2 = init_params(10,784, 10)\n",
    "alpha = .9\n",
    "one_hot_y = one_hot(Y_train)\n",
    "\n",
    "num_iterations = 1\n",
    "i = 0\n",
    "while i <num_iterations: # Forward\n",
    "    i+=1\n",
    "    Z1 = W1.dot(X_train) + b1\n",
    "    A1 = ReLU(Z1)\n",
    "    Z2 = W2.dot(A1) + b2\n",
    "    A2 = softmax(Z2)\n",
    "    \n",
    "    dZ2 = A2 - one_hot_y ### absolute difference between the prediction and the target. \n",
    "    dW2 = 1 / m * dZ2.dot(A1.T)\n",
    "    db2 = 1 / m * np.sum(dZ2)\n",
    "    dZ1 = W2.T.dot(dZ2) * ReLU_deriv(Z1)\n",
    "    dW1 = 1 / m * dZ1.dot(X_train.T)\n",
    "    db1 = 1 / m * np.sum(dZ1)\n",
    "    \n",
    "    W1 = W1 - alpha * dW1\n",
    "    b1 = b1 - alpha * db1    \n",
    "    W2 = W2 - alpha * dW2  \n",
    "    b2 = b2 - alpha * db2    \n",
    "    if i % 10 == 0:\n",
    "        predictions = get_predictions(A2)\n",
    "        print(get_accuracy(predictions, Y_train))"
   ]
  },
  {
   "cell_type": "code",
   "execution_count": 80,
   "id": "ce714ce5-522b-4a67-8f44-3b1cdfc4e8fc",
   "metadata": {},
   "outputs": [],
   "source": [
    "W1, b1, W2, b2 = init_params(10,784, 10)\n",
    "\n",
    "Z1 = W1.dot(X_train) + b1\n",
    "A1 = ReLU(Z1)\n",
    "Z2 = W2.dot(A1) + b2\n",
    "A2 = softmax(Z2)\n",
    "\n",
    "dZ2 = A2 - one_hot_y ### absolute difference between the prediction and the target. \n",
    "dW2 = 1 / m * dZ2.dot(A1.T)\n",
    "db2 = 1 / m * np.sum(dZ2)\n",
    "dZ1 = W2.T.dot(dZ2) * ReLU_deriv(Z1)\n",
    "dW1 = 1 / m * dZ1.dot(X_train.T)\n",
    "db1 = 1 / m * np.sum(dZ1)"
   ]
  },
  {
   "cell_type": "code",
   "execution_count": 103,
   "id": "b803f5f5-ceb3-414c-b4cd-979964b87d23",
   "metadata": {},
   "outputs": [
    {
     "data": {
      "text/plain": [
       "467.3408315712811"
      ]
     },
     "execution_count": 103,
     "metadata": {},
     "output_type": "execute_result"
    }
   ],
   "source": [
    "Z1_e = np.exp(Z1)\n",
    "Z1_e[0,0]"
   ]
  },
  {
   "cell_type": "code",
   "execution_count": 156,
   "id": "3df204ab-db15-4e43-96d8-2710b2b9e097",
   "metadata": {},
   "outputs": [
    {
     "name": "stdout",
     "output_type": "stream",
     "text": [
      "0.0987183119718662\n"
     ]
    }
   ],
   "source": [
    "predictions = get_predictions(A2)\n",
    "print(get_accuracy(predictions, Y_train))"
   ]
  },
  {
   "cell_type": "code",
   "execution_count": 159,
   "id": "aa2112ae-1fe3-477a-b3f6-660925432b0d",
   "metadata": {},
   "outputs": [
    {
     "data": {
      "text/plain": [
       "56"
      ]
     },
     "execution_count": 159,
     "metadata": {},
     "output_type": "execute_result"
    }
   ],
   "source": [
    "np.argmax(A2)"
   ]
  },
  {
   "cell_type": "code",
   "execution_count": 127,
   "id": "7fae399a-c4d5-4ed7-9e74-2d2a2d548b33",
   "metadata": {},
   "outputs": [
    {
     "data": {
      "text/plain": [
       "(10, 59999)"
      ]
     },
     "execution_count": 127,
     "metadata": {},
     "output_type": "execute_result"
    }
   ],
   "source": [
    "Z1_e.shape"
   ]
  },
  {
   "cell_type": "code",
   "execution_count": 126,
   "id": "2bb5010d-b496-41c8-8de9-e8ff7540b78c",
   "metadata": {},
   "outputs": [
    {
     "data": {
      "text/plain": [
       "(59999,)"
      ]
     },
     "execution_count": 126,
     "metadata": {},
     "output_type": "execute_result"
    }
   ],
   "source": [
    "Z1_e_sum.shape"
   ]
  },
  {
   "cell_type": "code",
   "execution_count": 99,
   "id": "b8eac3cf-fcda-4c39-b1a6-326a2edfe69c",
   "metadata": {},
   "outputs": [],
   "source": [
    "Z1_e_sum = sum(np.exp(Z1))"
   ]
  },
  {
   "cell_type": "code",
   "execution_count": 108,
   "id": "5b2606a7-4170-41b8-b943-1da4249394d7",
   "metadata": {},
   "outputs": [],
   "source": [
    "Z1_e_div = Z1_e/Z1_e_sum"
   ]
  },
  {
   "cell_type": "code",
   "execution_count": 109,
   "id": "f6df1edd-152f-4d56-9e71-d68f4e64d513",
   "metadata": {},
   "outputs": [
    {
     "data": {
      "text/plain": [
       "array([[0.1, 0.1, 0.1, ..., 0.1, 0.1, 0.1],\n",
       "       [0.1, 0.1, 0.1, ..., 0.1, 0.1, 0.1],\n",
       "       [0.1, 0.1, 0.1, ..., 0.1, 0.1, 0.1],\n",
       "       ...,\n",
       "       [0.1, 0.1, 0.1, ..., 0.1, 0.1, 0.1],\n",
       "       [0.1, 0.1, 0.1, ..., 0.1, 0.1, 0.1],\n",
       "       [0.1, 0.1, 0.1, ..., 0.1, 0.1, 0.1]])"
      ]
     },
     "execution_count": 109,
     "metadata": {},
     "output_type": "execute_result"
    }
   ],
   "source": [
    "Z1_e_div"
   ]
  },
  {
   "cell_type": "code",
   "execution_count": 84,
   "id": "e68362e8-c00a-4ad9-8a83-d5cf8284c6bf",
   "metadata": {},
   "outputs": [
    {
     "name": "stdout",
     "output_type": "stream",
     "text": [
      "3103079.9313725843\n",
      "3103079.9313725843\n",
      "1581539.4656862929\n",
      "59999.0\n",
      "-4.144351528623247e-12\n",
      "-3.747002708109903e-15\n",
      "4.0945707576635385e-17\n",
      "-1.0756059237737982e-12\n",
      "-1.992578653032066e-15\n"
     ]
    }
   ],
   "source": [
    "\n",
    "print(sum(sum(Z1)))\n",
    "print(sum(sum(A1)))\n",
    "print(sum(sum(Z2)))\n",
    "print(sum(sum(A2)))\n",
    "print(sum(sum(dZ2)))\n",
    "print(sum(sum(dW2)))\n",
    "print(db2)\n",
    "print(sum(sum(dZ1)))\n",
    "print(sum(sum(dW1)))\n"
   ]
  },
  {
   "cell_type": "code",
   "execution_count": 83,
   "id": "2f682e67-d3fc-4113-887a-2900cf01ad76",
   "metadata": {},
   "outputs": [],
   "source": [
    "def make_predictions(X, W1, b1, W2, b2):\n",
    "    _, _, _, A2 = forward_prop(W1, b1, W2, b2, X)\n",
    "    predictions = get_predictions(A2)\n",
    "    return predictions\n",
    "\n",
    "def test_prediction(index, W1, b1, W2, b2):\n",
    "    current_image = X_train[:, index, None]\n",
    "    prediction = make_predictions(X_train[:, index, None], W1, b1, W2, b2)\n",
    "    label = Y_train[index]\n",
    "    print(\"Prediction: \", prediction)\n",
    "    print(\"Label: \", label)\n",
    "    \n",
    "    current_image = current_image.reshape((28, 28)) * 255\n",
    "    plt.gray()\n",
    "    plt.imshow(current_image, interpolation='nearest')\n",
    "    plt.show()"
   ]
  },
  {
   "cell_type": "code",
   "execution_count": 87,
   "id": "44bd90b6-f628-4810-b70c-4bb08294441c",
   "metadata": {},
   "outputs": [
    {
     "name": "stdout",
     "output_type": "stream",
     "text": [
      "Prediction:  [3]\n",
      "Label:  2\n"
     ]
    },
    {
     "data": {
      "image/png": "[encoded data removed]",
      "text/plain": [
       "<Figure size 640x480 with 1 Axes>"
      ]
     },
     "metadata": {},
     "output_type": "display_data"
    },
    {
     "name": "stdout",
     "output_type": "stream",
     "text": [
      "Prediction:  [8]\n",
      "Label:  8\n"
     ]
    },
    {
     "data": {
      "image/png": "[encoded data removed]",
      "text/plain": [
       "<Figure size 640x480 with 1 Axes>"
      ]
     },
     "metadata": {},
     "output_type": "display_data"
    },
    {
     "name": "stdout",
     "output_type": "stream",
     "text": [
      "Prediction:  [1]\n",
      "Label:  1\n"
     ]
    },
    {
     "data": {
      "image/png": "[encoded data removed]",
      "text/plain": [
       "<Figure size 640x480 with 1 Axes>"
      ]
     },
     "metadata": {},
     "output_type": "display_data"
    },
    {
     "name": "stdout",
     "output_type": "stream",
     "text": [
      "Prediction:  [4]\n",
      "Label:  4\n"
     ]
    },
    {
     "data": {
      "image/png": "[encoded data removed]",
      "text/plain": [
       "<Figure size 640x480 with 1 Axes>"
      ]
     },
     "metadata": {},
     "output_type": "display_data"
    }
   ],
   "source": [
    "test_prediction(0, W1, b1, W2, b2)\n",
    "test_prediction(1, W1, b1, W2, b2)\n",
    "test_prediction(2, W1, b1, W2, b2)\n",
    "test_prediction(3, W1, b1, W2, b2)"
   ]
  },
  {
   "cell_type": "code",
   "execution_count": null,
   "id": "fe92c027-614e-460b-a78a-a26efd35a4c9",
   "metadata": {},
   "outputs": [],
   "source": []
  },
  {
   "cell_type": "markdown",
   "id": "ecce1fa6-448e-4aea-a06c-fb268aa56460",
   "metadata": {},
   "source": [
    "# "
   ]
  }
 ],
 "metadata": {
  "kernelspec": {
   "display_name": "Python 3 (ipykernel)",
   "language": "python",
   "name": "python3"
  },
  "language_info": {
   "codemirror_mode": {
    "name": "ipython",
    "version": 3
   },
   "file_extension": ".py",
   "mimetype": "text/x-python",
   "name": "python",
   "nbconvert_exporter": "python",
   "pygments_lexer": "ipython3",
   "version": "3.10.12"
  }
 },
 "nbformat": 4,
 "nbformat_minor": 5
}
