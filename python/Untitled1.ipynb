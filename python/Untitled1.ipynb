{
 "cells": [
  {
   "cell_type": "code",
   "execution_count": 1,
   "id": "aeb919ca-b88f-4976-9a65-873ad15792ee",
   "metadata": {},
   "outputs": [],
   "source": [
    "import numpy as np"
   ]
  },
  {
   "cell_type": "code",
   "execution_count": 35,
   "id": "22df9747-7b74-45ac-a1cf-7f30da54281f",
   "metadata": {},
   "outputs": [],
   "source": [
    "a = np.zeros(8)\n",
    "a+=1"
   ]
  },
  {
   "cell_type": "code",
   "execution_count": 28,
   "id": "6b112025-c27a-404d-8179-c33cd7f9e81f",
   "metadata": {},
   "outputs": [],
   "source": [
    "b = np.asarray(range(0,8))"
   ]
  },
  {
   "cell_type": "code",
   "execution_count": 29,
   "id": "235cf00a-ec17-4887-89f4-d56138725f80",
   "metadata": {},
   "outputs": [
    {
     "data": {
      "text/plain": [
       "array([0, 1, 2, 3, 4, 5, 6, 7])"
      ]
     },
     "execution_count": 29,
     "metadata": {},
     "output_type": "execute_result"
    }
   ],
   "source": [
    "b"
   ]
  },
  {
   "cell_type": "code",
   "execution_count": 30,
   "id": "6a30b158-0140-44eb-81ef-396ff28c0442",
   "metadata": {},
   "outputs": [
    {
     "data": {
      "text/plain": [
       "array([1., 1., 1., 1., 1., 1., 1., 1.])"
      ]
     },
     "execution_count": 30,
     "metadata": {},
     "output_type": "execute_result"
    }
   ],
   "source": [
    "a"
   ]
  },
  {
   "cell_type": "code",
   "execution_count": 31,
   "id": "d4a222aa-af30-43ce-b19f-3d0d0ff7282e",
   "metadata": {},
   "outputs": [
    {
     "data": {
      "text/plain": [
       "28.0"
      ]
     },
     "execution_count": 31,
     "metadata": {},
     "output_type": "execute_result"
    }
   ],
   "source": [
    "sum(a *b)"
   ]
  },
  {
   "cell_type": "code",
   "execution_count": 36,
   "id": "59bbf112-b9bf-4467-a297-0c35ef2efc56",
   "metadata": {},
   "outputs": [],
   "source": [
    "import numpy as np\n",
    "\n",
    "# Create the first matrix (all 1s)\n",
    "#a = np.ones((8, 8), dtype=int)\n",
    "\n",
    "# Create the second matrix (numbers 0 to 63 in row-major order)\n",
    "b = np.arange(64).reshape(8, 8)\n",
    "\n"
   ]
  },
  {
   "cell_type": "code",
   "execution_count": 39,
   "id": "2f7c8d14-77aa-4303-8d1b-b3cc0247457a",
   "metadata": {},
   "outputs": [
    {
     "data": {
      "text/plain": [
       "array([224., 232., 240., 248., 256., 264., 272., 280.])"
      ]
     },
     "execution_count": 39,
     "metadata": {},
     "output_type": "execute_result"
    }
   ],
   "source": [
    "a.dot(b)"
   ]
  },
  {
   "cell_type": "code",
   "execution_count": null,
   "id": "4db8d5c6-7a6a-4f83-aa5c-f6dec473f8db",
   "metadata": {},
   "outputs": [],
   "source": []
  }
 ],
 "metadata": {
  "kernelspec": {
   "display_name": "Python 3 (ipykernel)",
   "language": "python",
   "name": "python3"
  },
  "language_info": {
   "codemirror_mode": {
    "name": "ipython",
    "version": 3
   },
   "file_extension": ".py",
   "mimetype": "text/x-python",
   "name": "python",
   "nbconvert_exporter": "python",
   "pygments_lexer": "ipython3",
   "version": "3.13.2"
  }
 },
 "nbformat": 4,
 "nbformat_minor": 5
}
